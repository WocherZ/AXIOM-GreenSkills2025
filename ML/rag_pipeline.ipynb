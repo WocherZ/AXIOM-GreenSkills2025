{
 "cells": [
  {
   "cell_type": "code",
   "execution_count": null,
   "metadata": {},
   "outputs": [],
   "source": [
    "%pip install openai qdrant_client langchain tiktoken fastembed -q"
   ]
  },
  {
   "cell_type": "markdown",
   "metadata": {},
   "source": [
    "### Импорты библиотек"
   ]
  },
  {
   "cell_type": "code",
   "execution_count": 311,
   "metadata": {},
   "outputs": [],
   "source": [
    "import json\n",
    "import openai\n",
    "import concurrent.futures\n",
    "from typing import List, Dict\n",
    "from langchain.text_splitter import TokenTextSplitter\n",
    "from qdrant_client import QdrantClient\n",
    "from qdrant_client.models import Distance, VectorParams, PointStruct\n",
    "from concurrent.futures import ThreadPoolExecutor"
   ]
  },
  {
   "cell_type": "markdown",
   "metadata": {},
   "source": [
    "### Заданные константы"
   ]
  },
  {
   "cell_type": "code",
   "execution_count": 312,
   "metadata": {},
   "outputs": [],
   "source": [
    "# Ваш хост\n",
    "HOST = '127.0.0.1'\n",
    "\n",
    "# Эмбеддинг\n",
    "EMBEDDING_BASE_URL = f\"http://{HOST}:9001/v1\"\n",
    "EMBEDDING_MODEL_NAME = \"bge-m3\"\n",
    "\n",
    "# Векторная база данных\n",
    "QDRANT_URL = f\"http://{HOST}:6333\"\n",
    "COLLECTION_NAME = \"TEST\"\n",
    "\n",
    "# LLM\n",
    "BASE_URL = \"http://{HOST}:9000/v1\"\n",
    "MODEL_NAME = \"Qwen2.5-14B-Instruct-GPTQ-Int4\"\n",
    "\n",
    "# Количество потоков для параллельности обработки\n",
    "EMBEDDING_THREADS = 8\n",
    "CREATE_SLIDES_THREADS = 6"
   ]
  },
  {
   "cell_type": "markdown",
   "metadata": {},
   "source": [
    "### Получение эмбеддингов"
   ]
  },
  {
   "cell_type": "code",
   "execution_count": 313,
   "metadata": {},
   "outputs": [],
   "source": [
    "embedding_client = openai.OpenAI(api_key=\"EMPTY\", base_url=EMBEDDING_BASE_URL)"
   ]
  },
  {
   "cell_type": "code",
   "execution_count": 314,
   "metadata": {},
   "outputs": [],
   "source": [
    "def get_text_embedding(text: str) -> List:\n",
    "    embedding_response = embedding_client.embeddings.create(\n",
    "        model=EMBEDDING_MODEL_NAME,\n",
    "        input=text\n",
    "    )\n",
    "    embedding = embedding_response.data[0].embedding\n",
    "    return embedding"
   ]
  },
  {
   "cell_type": "code",
   "execution_count": 316,
   "metadata": {},
   "outputs": [
    {
     "data": {
      "text/plain": [
       "1024"
      ]
     },
     "execution_count": 316,
     "metadata": {},
     "output_type": "execute_result"
    }
   ],
   "source": [
    "len(get_text_embedding(\"Тест эмбеддинг доступности эмбеддинг модели\"))"
   ]
  },
  {
   "cell_type": "markdown",
   "metadata": {},
   "source": [
    "### Пример запроса пользователя и содержания файла"
   ]
  },
  {
   "cell_type": "code",
   "execution_count": 273,
   "metadata": {},
   "outputs": [],
   "source": [
    "user_prompt = 'Сделай презентацию про функционал и производительность Атом.Око'"
   ]
  },
  {
   "cell_type": "code",
   "execution_count": 317,
   "metadata": {},
   "outputs": [
    {
     "name": "stdout",
     "output_type": "stream",
     "text": [
      "Количество символов в текстовом документе: 12959\n"
     ]
    }
   ],
   "source": [
    "def read_text_file(file_path: str) -> str:\n",
    "    with open(file_path, 'r', encoding='utf-8') as file:\n",
    "        return file.read()\n",
    "\n",
    "file_content_1 = read_text_file('test_data/atom_search_1.txt')\n",
    "file_content_2 = read_text_file('test_data/atom_search_2.txt')\n",
    "file_content_3 = read_text_file('test_data/atom_search_3.txt')\n",
    "\n",
    "content_text = file_content_3\n",
    "print(\"Количество символов в текстовом документе:\", len(content_text))"
   ]
  },
  {
   "cell_type": "markdown",
   "metadata": {},
   "source": [
    "### Загрузка в векторную базу данных [Qdrant](https://qdrant.tech/)"
   ]
  },
  {
   "cell_type": "code",
   "execution_count": 318,
   "metadata": {},
   "outputs": [],
   "source": [
    "qdrant_client = QdrantClient(url=QDRANT_URL)"
   ]
  },
  {
   "cell_type": "code",
   "execution_count": 319,
   "metadata": {},
   "outputs": [
    {
     "name": "stdout",
     "output_type": "stream",
     "text": [
      "92\n"
     ]
    }
   ],
   "source": [
    "def split_text_into_chunks(text: str, chunk_size: int, chunk_overlap=50) -> List[str]:\n",
    "    text_splitter = TokenTextSplitter(chunk_size=chunk_size, chunk_overlap=chunk_overlap)\n",
    "    chunks = text_splitter.split_text(text)\n",
    "    return chunks\n",
    "\n",
    "\n",
    "chunk_size = 200\n",
    "chunks = split_text_into_chunks(content_text, chunk_size)\n",
    "print(len(chunks))"
   ]
  },
  {
   "cell_type": "code",
   "execution_count": 320,
   "metadata": {},
   "outputs": [],
   "source": [
    "if not qdrant_client.collection_exists(COLLECTION_NAME):\n",
    "    qdrant_client.create_collection(\n",
    "        collection_name=COLLECTION_NAME,\n",
    "        vectors_config=VectorParams(size=1024, distance=Distance.DOT),\n",
    "    )"
   ]
  },
  {
   "cell_type": "code",
   "execution_count": 321,
   "metadata": {},
   "outputs": [
    {
     "name": "stdout",
     "output_type": "stream",
     "text": [
      "operation_id=1 status=<UpdateStatus.COMPLETED: 'completed'>\n"
     ]
    }
   ],
   "source": [
    "def embed_chunk(chunk: str) -> List:\n",
    "    return get_text_embedding(chunk)\n",
    "\n",
    "vectors = []\n",
    "with ThreadPoolExecutor(max_workers=EMBEDDING_THREADS) as executor:  # Замените N на желаемое количество потоков\n",
    "    embeddings = list(executor.map(embed_chunk, chunks))\n",
    "\n",
    "for i, vector in enumerate(embeddings):\n",
    "    vectors.append(PointStruct(id=i + 1, vector=vector, payload={\"chunk\": chunks[i]}))\n",
    "\n",
    "operation_info = qdrant_client.upsert(\n",
    "    collection_name=COLLECTION_NAME,\n",
    "    wait=True,\n",
    "    points=vectors,\n",
    ")\n",
    "print(operation_info)"
   ]
  },
  {
   "cell_type": "code",
   "execution_count": 324,
   "metadata": {},
   "outputs": [],
   "source": [
    "def get_relevant_docs(user_query: str) -> List:\n",
    "    search_result = qdrant_client.query_points(\n",
    "        collection_name=COLLECTION_NAME,\n",
    "        query=get_text_embedding(user_query),\n",
    "        with_payload=True,\n",
    "        limit=5\n",
    "    ).points\n",
    "\n",
    "    found_texts = []\n",
    "    for result in search_result:\n",
    "        found_texts.append(\n",
    "            result.payload.get(\"chunk\")\n",
    "        )\n",
    "\n",
    "    return found_texts"
   ]
  },
  {
   "cell_type": "code",
   "execution_count": 325,
   "metadata": {},
   "outputs": [
    {
     "data": {
      "text/plain": [
       "['ения информации из документов, проверки данных и автоматизации документооборота в различных сферах бизнеса 【10】.\\n\\n2. Функциональные возможности\\nРаспознавание документов: Обрабатывает с',\n",
       " 'остоятельно добавлять новые типы документов и настраивать логику обработки 【10】.\\nВопросно-ответная система: Функция «Поговори с документом» позволяет пользователю загружать файл и запрашив',\n",
       " 'ефон. Проблема решается быстро и эффективно.\\nЛояльность:\\nПользователь становится постоянным клиентом, продлевая подписку на премиум-функции.\\nОн рекомендует \"Атом.Око\" друзьям и коллегам',\n",
       " 'во: распознавание заявлений и уведомлений сотрудников4.\\n\\nАрхивная деятельность: оцифровка и систематизация больших объемов документов45.\\n\\nЛогистика и закупки: проверка комплектности и к',\n",
       " '.\\nОн рекомендует \"Атом.Око\" друзьям и коллегам, возможно, даже участвует в партнерской программе для получения скидок.\\n7. Стадия: Расширение использования\\nНовые функции: Компания регуля']"
      ]
     },
     "execution_count": 325,
     "metadata": {},
     "output_type": "execute_result"
    }
   ],
   "source": [
    "get_relevant_docs('Функционал')"
   ]
  },
  {
   "cell_type": "markdown",
   "metadata": {},
   "source": [
    "### Генерация с помощью LLM"
   ]
  },
  {
   "cell_type": "code",
   "execution_count": 326,
   "metadata": {},
   "outputs": [],
   "source": [
    "def extract_llm_answer(llm_answer: str) -> List | Dict:\n",
    "    # Извлекаем текст между ```json и ```\n",
    "    json_text = llm_answer.split('```json')[1].split('```')[0].strip()\n",
    "    return json.loads(json_text)"
   ]
  },
  {
   "cell_type": "code",
   "execution_count": 327,
   "metadata": {},
   "outputs": [],
   "source": [
    "llm_client = openai.OpenAI(api_key=\"EMPTY\", base_url=BASE_URL)"
   ]
  },
  {
   "cell_type": "markdown",
   "metadata": {},
   "source": [
    "#### Суммаризация документа"
   ]
  },
  {
   "cell_type": "code",
   "execution_count": 328,
   "metadata": {},
   "outputs": [],
   "source": [
    "SUMMARY_TEXT_CONTENT_SYSTEM_PROMPT = \"Ты эксперт в создании кратких и точных резюме документов. Содержание должно отражать суть документа и состоять не больше, чем из 3 предложений.\"\n",
    "SUMMARY_TEXT_CONTENT_USER_PROMPT_TEMPLATE = \"Пожалуйста, составь краткое содержание для следующего документа: {text_content}\\n\\nПри составлении учитывай, что хочет пользователь. Запрос пользователя: {user_query}\\nКраткое содержание:\""
   ]
  },
  {
   "cell_type": "code",
   "execution_count": 329,
   "metadata": {},
   "outputs": [],
   "source": [
    "summary_threashold = 5000  # Максимальная длина текста для суммаризации\n",
    "\n",
    "# Суммаризируем в несколько потоков\n",
    "if len(content_text) > summary_threashold:\n",
    "    chunks = split_text_into_chunks(content_text, summary_threashold, chunk_overlap=100)\n",
    "    with ThreadPoolExecutor() as executor:\n",
    "        chat_responses = list(executor.map(lambda chunk: llm_client.chat.completions.create(\n",
    "            model=MODEL_NAME,\n",
    "            messages=[\n",
    "                {\"role\": \"system\", \"content\": SUMMARY_TEXT_CONTENT_SYSTEM_PROMPT},\n",
    "                {\"role\": \"user\", \"content\": SUMMARY_TEXT_CONTENT_USER_PROMPT_TEMPLATE.format(text_content=chunk, user_query=user_prompt)},\n",
    "            ],\n",
    "            temperature=0\n",
    "        ), chunks))\n",
    "    \n",
    "    summary_content = \" \".join(response.choices[0].message.content for response in chat_responses)\n",
    "\n",
    "# Суммаризируем в один поток\n",
    "else:\n",
    "    chat_response = llm_client.chat.completions.create(\n",
    "        model=MODEL_NAME,\n",
    "        messages=[\n",
    "            {\"role\": \"system\", \"content\": SUMMARY_TEXT_CONTENT_SYSTEM_PROMPT},\n",
    "            {\"role\": \"user\", \"content\": SUMMARY_TEXT_CONTENT_USER_PROMPT_TEMPLATE.format(text_content=content_text, user_query=user_prompt)},\n",
    "        ],\n",
    "        temperature=0\n",
    "    )\n",
    "    summary_content = chat_response.choices[0].message.content"
   ]
  },
  {
   "cell_type": "code",
   "execution_count": 330,
   "metadata": {},
   "outputs": [
    {
     "name": "stdout",
     "output_type": "stream",
     "text": [
      "Атом.Око — это программное обеспечение для автоматизации работы с документами, разработанное компанией «Гринатом». Оно использует технологии машинного обучения для точного распознавания и анализа текста, изображений и таблиц, что позволяет значительно ускорить обработку документов и снизить временные затраты. Продукт поддерживает интеграцию с различными корпоративными системами и обеспечивает высокую точность и безопасность при работе с конфиденциальными данными. Атом.Око представляет собой систему для автоматизации документооборота с возможностью гибкой настройки и интеграции с другими ИТ-системами. Она обеспечивает высокую точность распознавания и производительность, адаптируясь к различным типам документов и нагрузкам. Система уже успешно используется крупными компаниями, автоматизируя обработку документов и снижая временные и финансовые затраты. \"Атом.Око\" - это устройство, обеспечивающее мониторинг состояния глаз и осанки пользователя. Оно совместимо с различными платформами и предлагает базовую и расширенную версии с годовой подпиской на премиум-функции. Устройство автоматически начинает работу при включении компьютера, отправляя уведомления о необходимости перерывов и предлагая персонализированные советы по улучшению здоровья.\n"
     ]
    }
   ],
   "source": [
    "print(summary_content)"
   ]
  },
  {
   "cell_type": "code",
   "execution_count": 331,
   "metadata": {},
   "outputs": [
    {
     "data": {
      "text/plain": [
       "1253"
      ]
     },
     "execution_count": 331,
     "metadata": {},
     "output_type": "execute_result"
    }
   ],
   "source": [
    "len(summary_content)"
   ]
  },
  {
   "cell_type": "markdown",
   "metadata": {},
   "source": [
    "#### Генерация заголовков слайдов"
   ]
  },
  {
   "cell_type": "code",
   "execution_count": 332,
   "metadata": {},
   "outputs": [],
   "source": [
    "CREATE_SLIDES_PLAN_ANSWER_EXAMPLE = '''```json\\n[{\"title\": \"...\", \"info\": \"...\", \"use_list\": true}, {\"title\": \"...\", \"info\": \"...\", \"use_list\": false}]\\n```\n",
    "Для каждого слайда используй следующие поля:\n",
    "- \"title\": Название слайда.\n",
    "- \"info\": Краткая информация из контекста в 1 предложении, которая будет расположена на слайде.\n",
    "- \"use_list\": Флаг использования списка, true - использовать список на слайде, false - не использовать список.\n",
    "'''\n",
    "CREATE_SLIDES_PLAN_SYSTEM_PROMPT = f\"Ты креативный создатель презентаций. Твоя задача придумывать заголовки к слайдам презентации. Ответ дай в формате JSON:{CREATE_SLIDES_PLAN_ANSWER_EXAMPLE}\"\n",
    "CREATE_SLIDES_PLAN_USER_PROMPT_TEMPLATE = \"Тебе дан следующий контекст: {summary_content}\\nСделай презентацию по запросу пользователя: {user_query}\\nНазвание слайдов в виде JSON:\""
   ]
  },
  {
   "cell_type": "code",
   "execution_count": 335,
   "metadata": {},
   "outputs": [
    {
     "data": {
      "text/plain": [
       "[{'title': 'Введение в Атом.Око',\n",
       "  'info': 'Атом.Око — это программное обеспечение для автоматизации работы с документами, разработанное компанией «Гринатом».',\n",
       "  'use_list': False},\n",
       " {'title': 'Технологии и возможности',\n",
       "  'info': 'Программное обеспечение использует технологии машинного обучения для точного распознавания и анализа текста, изображений и таблиц.',\n",
       "  'use_list': True},\n",
       " {'title': 'Преимущества использования',\n",
       "  'info': 'Атом.Око позволяет значительно ускорить обработку документов и снизить временные затраты.',\n",
       "  'use_list': True},\n",
       " {'title': 'Интеграция и безопасность',\n",
       "  'info': 'Продукт поддерживает интеграцию с различными корпоративными системами и обеспечивает высокую точность и безопасность при работе с конфиденциальными данными.',\n",
       "  'use_list': False},\n",
       " {'title': 'Гибкость и настройка',\n",
       "  'info': 'Атом.Око представляет собой систему для автоматизации документооборота с возможностью гибкой настройки и интеграции с другими ИТ-системами.',\n",
       "  'use_list': False},\n",
       " {'title': 'Высокая производительность',\n",
       "  'info': 'Система обеспечивает высокую точность распознавания и производительность, адаптируясь к различным типам документов и нагрузкам.',\n",
       "  'use_list': False},\n",
       " {'title': 'Практический опыт',\n",
       "  'info': 'Атом.Око уже успешно используется крупными компаниями, автоматизируя обработку документов и снижая временные и финансовые затраты.',\n",
       "  'use_list': True}]"
      ]
     },
     "execution_count": 335,
     "metadata": {},
     "output_type": "execute_result"
    }
   ],
   "source": [
    "chat_response = llm_client.chat.completions.create(\n",
    "    model=MODEL_NAME,\n",
    "    messages=[\n",
    "        {\"role\": \"system\", \"content\": CREATE_SLIDES_PLAN_SYSTEM_PROMPT},\n",
    "        {\"role\": \"user\", \"content\": CREATE_SLIDES_PLAN_USER_PROMPT_TEMPLATE.format(summary_content=summary_content, user_query=user_prompt)},\n",
    "    ],\n",
    "    temperature=0\n",
    ")\n",
    "slides_titles = chat_response.choices[0].message.content\n",
    "slides_titles_array = extract_llm_answer(slides_titles)\n",
    "slides_titles_array"
   ]
  },
  {
   "cell_type": "markdown",
   "metadata": {},
   "source": [
    "#### Генерация контента для каждого слайда на основе релевантных документов из векторной базы данных"
   ]
  },
  {
   "cell_type": "code",
   "execution_count": 336,
   "metadata": {},
   "outputs": [],
   "source": [
    "CREATE_SLIDES_CONTENT_ANSWER_EXAMPLE = '''```json\\n{\"title\": \"...\", \"text\": \"...\"}\\n```'''\n",
    "CREATE_SLIDES_CONTENT_INSTRUCTIONS = '''При написании контента к слайду, ты можешь использовать следующие поля:\n",
    "- \"title\": название слайда.\n",
    "- \"text\": основной текст слайда - указывай обязательно для каждого слайда.'''\n",
    "CREATE_SLIDES_CONTENT_LIST = '''- \"list\": [\"...\", \"...\"] - перечисление пунктов или создание списков для презентации (bullet points).'''\n",
    "CREATE_SLIDES_CONTENT_SYSTEM_PROMPT = f\"Ты креативный создатель презентаций. Твоя задача - создавать содержимое для слайдов презентации. Ответ должен быть в формате JSON:{CREATE_SLIDES_CONTENT_ANSWER_EXAMPLE}\\n{CREATE_SLIDES_CONTENT_INSTRUCTIONS}\"\n",
    "CREATE_SLIDES_CONTENT_USER_PROMPT_TEMPLATE = \"Тебе дана следующая информация: {relevant_content}\\nТебе нужно составить содержание для слайда с названием: {slide_topic}. Содержание слайда в виде JSON:\""
   ]
  },
  {
   "cell_type": "code",
   "execution_count": 338,
   "metadata": {},
   "outputs": [],
   "source": [
    "slides_content = []\n",
    "\n",
    "def process_slide(slide_topic: Dict) -> Dict:\n",
    "    topic = slide_topic['title']\n",
    "    slide_info = slide_topic['info']\n",
    "    use_list_on_slide = slide_topic['use_list']\n",
    "\n",
    "    system_prompt = CREATE_SLIDES_CONTENT_SYSTEM_PROMPT + CREATE_SLIDES_CONTENT_LIST if use_list_on_slide else CREATE_SLIDES_CONTENT_SYSTEM_PROMPT\n",
    "\n",
    "    docs = get_relevant_docs(slide_info)\n",
    "    relevant_content = '\\n'.join(docs)\n",
    "    chat_response = llm_client.chat.completions.create(\n",
    "        model=MODEL_NAME,\n",
    "        messages=[\n",
    "            {\"role\": \"system\", \"content\": system_prompt },\n",
    "            {\"role\": \"user\", \"content\": CREATE_SLIDES_CONTENT_USER_PROMPT_TEMPLATE.format(relevant_content=relevant_content, slide_topic=topic)},\n",
    "        ]\n",
    "    )\n",
    "    slide_content = chat_response.choices[0].message.content\n",
    "    return extract_llm_answer(slide_content)\n",
    "\n",
    "with concurrent.futures.ThreadPoolExecutor(max_workers=CREATE_SLIDES_THREADS) as executor:\n",
    "    slides_content = list(executor.map(process_slide, slides_titles_array))"
   ]
  },
  {
   "cell_type": "code",
   "execution_count": 339,
   "metadata": {},
   "outputs": [
    {
     "name": "stdout",
     "output_type": "stream",
     "text": [
      "Создалась презентация по запросу пользователя: Сделай презентацию про функционал и производительность Атом.Око\n",
      "\n",
      "Slide 1:\n",
      "Введение в Атом.Око\n",
      "Атом.Око — это инновационное программное обеспечение для распознавания, анализа и обработки документов, разработанное компанией «Гринатом». Оно позволяет автоматизировать документооборот с высокой точностью, гибкими настройками и возможностью интеграции с другими информационными системами.\n",
      "\n",
      "Slide 2:\n",
      "Технологии и возможности\n",
      "Атом.Око использует передовые технологии машинного обучения и искусственного интеллекта для обеспечения высокой точности и скорости обработки данных.\n",
      " -  Обрабатывает сканированные документы и фотографии, извлекая текст даже при плохом освещении или сложных углах съемки.\n",
      " -  Проверяет данные и точно извлекает информацию из документов.\n",
      " -  Внедряется в различные отрасли, такие как бухгалтерия, кадровое делопроизводство, закупки и архивная деятельность.\n",
      "\n",
      "Slide 3:\n",
      "Преимущества использования Атом.Око\n",
      "Атом.Око предлагает ряд значимых преимуществ для повышения эффективности обработки документов:\n",
      " -  Автоматизация процессов, что позволяет сократить временные затраты на рутинные операции в 10–20 раз\n",
      " -  Возможность интеграции с другими ИТ-системами для улучшения потока рабочей информации\n",
      " -  Гибкие настройки, позволяющие адаптировать систему под различные потребности бизнеса\n",
      " -  Высокая точность распознавания документов, что снижает количество ошибок и улучшает качество работы\n",
      "\n",
      "Slide 4:\n",
      "Интеграция и безопасность\n",
      "Продукт разработан компанией «Гринатом» и адаптирован для использования с различными системами и документами, обеспечивая высокую безопасность информации при выполнении задач в различных отраслях, включая атомную отрасль. Данный подход позволяет компаниям легко интегрировать решение в существующую ИТ-инфраструктуру и снизить риски безопасности при управлении документами.\n",
      "\n",
      "Slide 5:\n",
      "Гибкость и настройка\n",
      "Атом.Око предоставляет широкие возможности для гибкой настройки, что делает его идеальным решением для различных сценариев использования. Система позволяет настраивать процессы обработки документации в соответствии с корпоративными требованиями и стандартами. Ее гибкость заключается в возможности интеграции с различными ИТ-системами, что облегчает её внедрение и использование в реальных рабочих условиях.\n",
      "\n",
      "Slide 6:\n",
      "Высокая производительность\n",
      "Система обладает высокой точностью распознавания, что повышается по мере использования и адаптации к различным типам документов. Используя технологии машинного обучения и искусственного интеллекта, система обеспечивает быструю и точную обработку данных, что позволяет компаниям сократить временные и финансовые затраты на обработку документов.\n",
      "\n",
      "Slide 7:\n",
      "Практический опыт\n",
      "Атом.Око уже применяется в крупных организациях, таких как госкорпорация Росатом и коммерческая компания Росагролизинг.\n",
      " -  Госкорпорация Росатом\n",
      " -  Коммерческая компания Росагролизинг\n",
      " -  50-100 крупных клиентов в разных отраслях\n"
     ]
    }
   ],
   "source": [
    "print(\"Создалась презентация по запросу пользователя:\", user_prompt)\n",
    "\n",
    "for i, slide_content in enumerate(slides_content):\n",
    "    print(f\"\\nSlide {i+1}:\")\n",
    "    print(slide_content.get('title'))\n",
    "    print(slide_content.get('text'))\n",
    "    if slide_content.get('list'):\n",
    "        for element in slide_content.get('list'):\n",
    "            print(\" - \", element)"
   ]
  },
  {
   "cell_type": "markdown",
   "metadata": {},
   "source": [
    "#### Чистим векторную бд"
   ]
  },
  {
   "cell_type": "code",
   "execution_count": 340,
   "metadata": {},
   "outputs": [
    {
     "data": {
      "text/plain": [
       "True"
      ]
     },
     "execution_count": 340,
     "metadata": {},
     "output_type": "execute_result"
    }
   ],
   "source": [
    "qdrant_client.delete_collection(collection_name=COLLECTION_NAME)"
   ]
  }
 ],
 "metadata": {
  "kernelspec": {
   "display_name": ".venv",
   "language": "python",
   "name": "python3"
  },
  "language_info": {
   "codemirror_mode": {
    "name": "ipython",
    "version": 3
   },
   "file_extension": ".py",
   "mimetype": "text/x-python",
   "name": "python",
   "nbconvert_exporter": "python",
   "pygments_lexer": "ipython3",
   "version": "3.11.9"
  }
 },
 "nbformat": 4,
 "nbformat_minor": 2
}
